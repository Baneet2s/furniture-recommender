{
  "cells": [
    {
      "cell_type": "markdown",
      "metadata": {},
      "source": [
        "# Model Training Notebook\n",
        "Train clustering for NLP grouping and prepare embeddings for Pinecone.\n"
      ]
    },
    {
      "cell_type": "code",
      "metadata": {},
      "execution_count": null,
      "outputs": [],
      "source": [
        "import pandas as pd\n",
        "from sklearn.model_selection import train_test_split\n",
        "from app.services.clustering import cluster_products\n",
        "df = pd.read_csv('../data/products.csv')\n",
        "labels, km, vec = cluster_products(df, n_clusters=8)\n",
        "df['cluster'] = labels\n",
        "df[['uniq_id','title','cluster']].head()"
      ]
    },
    {
      "cell_type": "code",
      "metadata": {},
      "execution_count": null,
      "outputs": [],
      "source": [
        "df['cluster'].value_counts()"
      ]
    },
    {
      "cell_type": "markdown",
      "metadata": {},
      "source": [
        "## Export Embeddings to Pinecone (run in app context)\n",
        "Use the FastAPI `/ingest` route or call the embedder directly."
      ]
    }
  ],
  "metadata": {
    "kernelspec": {
      "display_name": "Python 3",
      "language": "python",
      "name": "python3"
    },
    "language_info": {
      "name": "python",
      "version": "3.11"
    }
  },
  "nbformat": 4,
  "nbformat_minor": 5
}